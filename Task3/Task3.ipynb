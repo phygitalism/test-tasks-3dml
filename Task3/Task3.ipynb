{
 "cells": [
  {
   "cell_type": "markdown",
   "metadata": {},
   "source": [
    "# Описание задачи"
   ]
  },
  {
   "cell_type": "markdown",
   "metadata": {},
   "source": [
    "[В файле scene.ply](https://drive.google.com/file/d/11jscr5IjuwtFUUcvufwLKReHhrClmXlx/view?usp=sharing) хранится сцена с объектами из второго задания. \n",
    "\n",
    "Необходимо выделить отдельные объекты на этой сцене и используя модель из предыдущего шага выполнить их классификацию.\n",
    "В результате должна быть новая сцена с раскрашенными объектами в зависимости от класса. Цвета могут быть любыми, кроме чёрного. Плоские объекты (\"стена\" и \"пол\") на сцене считаются лишними и не представляют интереса.\n",
    "\n",
    "В результате нужно подготовить файл в формате .ply, где точки раскрашены цветом в зависимости от принадлежности к какому-то классу. Остальные точки должны иметь чёрный цвет."
   ]
  }
 ],
 "metadata": {
  "kernelspec": {
   "display_name": "Python [conda env:3dml-hr]",
   "language": "python",
   "name": "conda-env-3dml-hr-py"
  },
  "language_info": {
   "codemirror_mode": {
    "name": "ipython",
    "version": 3
   },
   "file_extension": ".py",
   "mimetype": "text/x-python",
   "name": "python",
   "nbconvert_exporter": "python",
   "pygments_lexer": "ipython3",
   "version": "3.7.7"
  }
 },
 "nbformat": 4,
 "nbformat_minor": 4
}