{
 "cells": [
  {
   "cell_type": "markdown",
   "metadata": {},
   "source": [
    "# Описание задачи"
   ]
  },
  {
   "cell_type": "markdown",
   "metadata": {},
   "source": [
    "В некоторой архитектуре нейронной сети зависимость выхода $y \\in \\mathbb{R}$ от входа $(x_1, x_2) \\in \\mathbb{R}^2$ можно записать следующим образом:\n",
    "$$\n",
    "\\begin{align*}\n",
    "&f_1(x_1, x_2) = x_1 + x_2,\\\\\n",
    "&f_2(x_1, x_2) = x_1 \\cdot x_2,\\\\\n",
    "&g_1(x_1, x_2) = \\tan( f_1(x_1, x_2) + f_2(x_1, x_2) + 100),\\\\\n",
    "&g_2(x_1, x_2) = f_1(x_1, x_2) \\cdot f_2(x_1, x_2),\\\\\n",
    "&y(x_1, x_2) = p(g_1(x_1,x_2), g_2(x_1, x_2)),\n",
    "\\end{align*}\n",
    "$$\n",
    "где $p(g_1, g_2)-$ некоторая неизветсна функция.\n",
    "\n",
    "С помощью [механизма автоматическоого дифференцирования в PyTorch](https://pytorch.org/tutorials/beginner/blitz/autograd_tutorial.html#) необходимо вычислить значения частных производных в разных точках:\n",
    "$$\n",
    "\\frac{\\partial y}{\\partial x_1}, \\frac{\\partial y}{\\partial x_2}, \n",
    "$$\n",
    "\n",
    "Для этого в файле `dev.json` приведены значения $\\frac{\\partial p}{\\partial g_1}, \\frac{\\partial p}{\\partial g_2}$ (обозначены как `dpdg1, dpdg2`), вычисленные при известных значениях входа. \n",
    "\n",
    "Нужно:\n",
    "\n",
    "1. Загрузить данные из файла `dev.json`\n",
    "2. Посчитать значения нужных производных дял каждой точки.\n",
    "3. Сохранить результат в формате CSV. Файл должен иметь следующую структуру:\n",
    "```\n",
    "id,dx1,dx2\n",
    "....\n",
    "```\n",
    "`id` - это значение `id` из `dev.json`, `dx1, dx2`- значение производных, вычисленные в точке `id` из `dev.json.`"
   ]
  },
  {
   "cell_type": "code",
   "execution_count": null,
   "metadata": {},
   "outputs": [],
   "source": []
  }
 ],
 "metadata": {
  "kernelspec": {
   "display_name": "Python [conda env:3dml-hr]",
   "language": "python",
   "name": "conda-env-3dml-hr-py"
  },
  "language_info": {
   "codemirror_mode": {
    "name": "ipython",
    "version": 3
   },
   "file_extension": ".py",
   "mimetype": "text/x-python",
   "name": "python",
   "nbconvert_exporter": "python",
   "pygments_lexer": "ipython3",
   "version": "3.7.7"
  }
 },
 "nbformat": 4,
 "nbformat_minor": 4
}
