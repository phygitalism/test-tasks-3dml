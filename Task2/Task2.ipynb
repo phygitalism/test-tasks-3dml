{
 "cells": [
  {
   "cell_type": "markdown",
   "metadata": {},
   "source": [
    "# Описание задачи"
   ]
  },
  {
   "cell_type": "markdown",
   "metadata": {},
   "source": [
    "[Дан набор 3D примитивов](https://drive.google.com/file/d/12xiXqZeVAp73DFrquxgzNT_ewJ0ZykBU). Необходимо решить задачу классиифкации объектов с помощью нейронной сети, представленных в форме облака точек.\n",
    "\n",
    "Для этого нужно:\n",
    "\n",
    "1. Используя набор данных из категории `train` обучить модель классификации.\n",
    "2. Оценкить качество её работы на объектах из категории `test`. Для этого воспользоваться [classification_report из scikit-learn](https://scikit-learn.org/stable/modules/generated/sklearn.metrics.classification_report.html?highlight=report#sklearn.metrics.classification_report)\n",
    "3. Подготовить код, который можно использовать для тестирования модели. На входе облако точек в виде файла в формате ply. На выходе класс объекта. Этот код будет использоваться для тестирования на отложенной выборке. На входе программа принимает путь до директории где расположены файлы в формате .ply. Все файлы на одном уровне. Сканировать рекурсивно другие директории не нужно. На выходе программа должна сохранить файл в формате csv со следующей структурой:\n",
    "```\n",
    "path,class_id\n",
    "путь_относительно_входной_директории,номер_класса\n",
    "```\n",
    "\n",
    "Соответствие имён классов и `class_id`:\n",
    "```\n",
    "0 cone\n",
    "1 cube\n",
    "2 cylinder\n",
    "3 plane\n",
    "4 torus\n",
    "5 uv_sphere\n",
    "```\n",
    "\n",
    "Какие средства можно применить, чтобы ускорить работу модели?\n",
    "\n",
    "Подойдут любые способы. Например, использовать [TensorRT](https://developer.nvidia.com/tensorrt)\n",
    "\n",
    "Задачу можно решать в [Google Colab](https://colab.research.google.com/), если нет возможности использовать GPU."
   ]
  },
  {
   "cell_type": "code",
   "execution_count": null,
   "metadata": {},
   "outputs": [],
   "source": []
  }
 ],
 "metadata": {
  "kernelspec": {
   "display_name": "Python [conda env:3dml-hr]",
   "language": "python",
   "name": "conda-env-3dml-hr-py"
  },
  "language_info": {
   "codemirror_mode": {
    "name": "ipython",
    "version": 3
   },
   "file_extension": ".py",
   "mimetype": "text/x-python",
   "name": "python",
   "nbconvert_exporter": "python",
   "pygments_lexer": "ipython3",
   "version": "3.7.7"
  }
 },
 "nbformat": 4,
 "nbformat_minor": 4
}