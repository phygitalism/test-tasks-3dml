{
 "metadata": {
  "language_info": {
   "codemirror_mode": {
    "name": "ipython",
    "version": 3
   },
   "file_extension": ".py",
   "mimetype": "text/x-python",
   "name": "python",
   "nbconvert_exporter": "python",
   "pygments_lexer": "ipython3",
   "version": 3
  },
  "orig_nbformat": 2
 },
 "nbformat": 4,
 "nbformat_minor": 2,
 "cells": [
  {
   "source": [
    "# Описание задачи\n"
   ],
   "cell_type": "markdown",
   "metadata": {}
  },
  {
   "source": [
    "Дана матрица A:\n",
    "$$\n",
    "A = \\begin{pmatrix}\n",
    "1 & 0 & 0\\\\\n",
    "1 & 1 & 0\\\\\n",
    "0 & -1 & 1000\\\\\n",
    "\\end{pmatrix}\n",
    "$$\n",
    "\n",
    "Необходимо найти $ A^n, $ где $ n \\in \\mathbb{N} $"
   ],
   "cell_type": "markdown",
   "metadata": {}
  }
 ]
}